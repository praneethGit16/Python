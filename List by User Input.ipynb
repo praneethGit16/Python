{
 "cells": [
  {
   "cell_type": "markdown",
   "metadata": {},
   "source": []
  },
  {
   "cell_type": "code",
   "execution_count": 6,
   "metadata": {},
   "outputs": [
    {
     "name": "stdout",
     "output_type": "stream",
     "text": [
      "Enter Size of List 5\n",
      "[0, 1, 2, 3, 4]\n"
     ]
    }
   ],
   "source": [
    "n = int(input(\"Enter Size of List \"))\n",
    "lis = []\n",
    "for i in range(0,n):\n",
    "    lis.append(i)\n",
    "print(lis)\n"
   ]
  },
  {
   "cell_type": "code",
   "execution_count": 5,
   "metadata": {},
   "outputs": [
    {
     "name": "stdout",
     "output_type": "stream",
     "text": [
      "Enter Size of List 4\n",
      "enter element: 1\n",
      "enter element: 2\n",
      "enter element: 3\n",
      "enter element: 4\n",
      "['1', '2', '3', '4']\n"
     ]
    }
   ],
   "source": [
    "n = int(input(\"Enter Size of List \"))\n",
    "lis = []\n",
    "for i in range(0,n):\n",
    "    ints = input(\"enter element: \")\n",
    "    lis.append(ints)\n",
    "print(lis)\n"
   ]
  }
 ],
 "metadata": {
  "kernelspec": {
   "display_name": "Python 3",
   "language": "python",
   "name": "python3"
  },
  "language_info": {
   "codemirror_mode": {
    "name": "ipython",
    "version": 3
   },
   "file_extension": ".py",
   "mimetype": "text/x-python",
   "name": "python",
   "nbconvert_exporter": "python",
   "pygments_lexer": "ipython3",
   "version": "3.8.3"
  }
 },
 "nbformat": 4,
 "nbformat_minor": 4
}
